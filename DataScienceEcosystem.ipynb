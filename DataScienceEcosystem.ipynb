{
 "cells": [
  {
   "cell_type": "markdown",
   "id": "150db673-40ae-429f-8544-72132dfe2658",
   "metadata": {},
   "source": [
    "# Data Science Tools and Ecosystem"
   ]
  },
  {
   "cell_type": "markdown",
   "id": "2773a924-446d-489a-9fc3-685750e4abd5",
   "metadata": {},
   "source": [
    "In this notebook, Data Science Tools and Ecosystem are summarized"
   ]
  },
  {
   "cell_type": "markdown",
   "id": "cb6296ee-080a-4160-89ad-ae1ed1eabf32",
   "metadata": {},
   "source": [
    "### Objectifs couverts par ce cahier :\n",
    "- Création d'un nouveau Jupyter notebook\n",
    "- Renommer un notebook\n",
    "- Inserer de nouvelles cellules\n",
    "- Utiliser le format Markdown et inserer des titres, des commentaires, des listes à puces, des listes à numéros, des tableaux.\n",
    "- Utiliser le format Code et réaliser des opérations arithmétiques simples\n"
   ]
  },
  {
   "cell_type": "markdown",
   "id": "06d04192-de18-4316-95f7-c417236e4d9b",
   "metadata": {},
   "source": [
    "Some of the popular languages that Data Scientists use are:"
   ]
  },
  {
   "cell_type": "markdown",
   "id": "bfbb85e7-c6bb-4113-bbef-3ba2f281e726",
   "metadata": {},
   "source": [
    "1. Python\n",
    "2. R\n",
    "3. SQL"
   ]
  },
  {
   "cell_type": "markdown",
   "id": "9a9df748-d54d-4325-9a39-b2aeffebf057",
   "metadata": {},
   "source": [
    "Some of the commonly used libraries used by Data Scientists include:"
   ]
  },
  {
   "cell_type": "markdown",
   "id": "2675d1a8-c10e-4347-b531-94c335ebba36",
   "metadata": {},
   "source": [
    "1. Pandas\n",
    "2. NumPy\n",
    "3. TensorFlow"
   ]
  },
  {
   "cell_type": "markdown",
   "id": "9118957e-0311-48e9-84f4-e171ee92c0a0",
   "metadata": {},
   "source": [
    "<table> <thead> <tr> <th> Data Science Tools </th> </tr> </thead> <tbody> <tr> <tr> <td>Python</td> </tr> <tr> <td>R</td> </tr> <tr> <td>SQL</td><tr></tbody></table>"
   ]
  },
  {
   "cell_type": "markdown",
   "id": "67e286f5-6bd9-4844-b211-bd4cccf34260",
   "metadata": {},
   "source": [
    "### Below are a few examples of evaluating arithmetic expressions in Python.\n",
    "3+4\n",
    "7*2\n",
    "(6-2)/2\n",
    "3**2"
   ]
  },
  {
   "cell_type": "code",
   "execution_count": 8,
   "id": "41246354-132e-4190-aaf3-8004bf4e128e",
   "metadata": {},
   "outputs": [
    {
     "data": {
      "text/plain": [
       "17"
      ]
     },
     "execution_count": 8,
     "metadata": {},
     "output_type": "execute_result"
    }
   ],
   "source": [
    "# Il s’agit d’une simple expression arithmétique pour ajouter plusieurs entiers.\n",
    "(3*4)+5"
   ]
  },
  {
   "cell_type": "code",
   "execution_count": 12,
   "id": "aeb5ff0a-0dfa-4b81-9f52-58fa878f7505",
   "metadata": {},
   "outputs": [
    {
     "name": "stdout",
     "output_type": "stream",
     "text": [
      "200 minutes correspondent à  3.33  heures de plongée.\n"
     ]
    }
   ],
   "source": [
    "# Cela convertira 200 minutes en heures de plongée par 60\n",
    "print(\"200 minutes correspondent à \",round(200/60, 2), \" heures de plongée.\")"
   ]
  },
  {
   "cell_type": "markdown",
   "id": "2e264cf4-76b5-48a8-b5c2-cc7d5609592a",
   "metadata": {},
   "source": [
    "## Author :   Henri de MEYER"
   ]
  }
 ],
 "metadata": {
  "kernelspec": {
   "display_name": "Python 3 (ipykernel)",
   "language": "python",
   "name": "python3"
  },
  "language_info": {
   "codemirror_mode": {
    "name": "ipython",
    "version": 3
   },
   "file_extension": ".py",
   "mimetype": "text/x-python",
   "name": "python",
   "nbconvert_exporter": "python",
   "pygments_lexer": "ipython3",
   "version": "3.12.4"
  }
 },
 "nbformat": 4,
 "nbformat_minor": 5
}
